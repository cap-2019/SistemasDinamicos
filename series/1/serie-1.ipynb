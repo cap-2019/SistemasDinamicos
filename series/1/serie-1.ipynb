{
 "cells": [
  {
   "cell_type": "markdown",
   "metadata": {},
   "source": [
    "# CAP-368 – Introdução à Teoria de Sistemas Dinâmicos\n",
    "## Série I\n",
    "\n",
    "1. Resuma, usando o Latex as seção 2.4 (modelo de Malthus) e 2.5 (Método dos Mínimos Quadrados) do livro do LM.\n",
    "2. Exercícios do livro do LM: 2.1(a,b,c,d), 2.2, 2.4 (implementar um programa), 3.1, 3.3, 3.4, 3.5. .\n",
    "3. Leia integralmente os capítulos I, II e III do livro do LM."
   ]
  },
  {
   "cell_type": "markdown",
   "metadata": {},
   "source": [
    "1. 2.4 (Modelo de Malthus)\n",
    "\n",
    "Uma equação diferencial de primeira ordem é uma equação de diferença de primeira ordem, assim:\n",
    "\n",
    "Eq(1): $\\frac{\\mathrm{d} x(t)}{\\mathrm{d} t} = \\lim_{ \\Delta t  \\to 0}\n",
    "\\frac{x(t+\\Delta t)-x(t)}{\\Delta t} = f(x(t)) $ \n",
    "\n",
    "A equação(1) demostra que a relação entre os valores de $x$ para dois instantes $t$ próximos vale $ x(t+\\Delta t) = x(t)+f(x(t))\\Delta t $ com $\\Delta t \\rightarrow  0 $.\n",
    "\n",
    "Conhecendo os valores de $x(t)$ e $f(x(t))$, calcula-se $x(t- \\Delta t)$. No modelo de Malthus que representa a dinâmica populacional, tem-se $N(t)$ o número de indivíduos, numa área em um instante $t$. Onde a variação de $N(t)$ pode ser descrita pela equação diferencial ordinária: $ dN(t)/dt $ = nacimento-morte+imigração-emigração. Num modelo simplificado, quanto mais indivíduos existem num instante $t$, mais indivíduos nascerão num intervalo de tempo, e mais indivíduos morrerão. Assim, $N(t+\\Delta t)-N(t)= (nN(t)-mN(t))\\Delta t$. Para $\\Delta t \\rightarrow 0 $:\n",
    "\n",
    "Eq(2): $\\frac{\\mathrm{d} N(t)}{\\mathrm{d} t} = n N(t)-m N(t) $ \n",
    "\n",
    "Onde $n =$ taxa de nascimento e $m =$ taxa de mortalidade.\n",
    "\n",
    "Para $r \\equiv n-m$ e $t=0$, tem-se a seguinte solução:\n",
    "\n",
    "Eq(3): $N(t)=N(0)e ^{rt}$\n",
    "\n",
    "Reescrevendo a equação(2):\n",
    "\n",
    "Eq(4): $N(t- \\Delta t )=N(t)[1+r \\Delta t]$ com $\\Delta t \\rightarrow 0$.\n",
    "\n",
    "Assim, para $t=0$:\n",
    "\n",
    "$N(\\Delta t)= N(0)[1+r \\Delta t]$\n",
    "\n",
    "Para $t= \\Delta t$:\n",
    "\n",
    "$N(2 \\Delta t)= N(0)[1+r \\Delta t]²$\n",
    "\n",
    "Para $t = (j-1) \\Delta t$:\n",
    "\n",
    "Eq(5): $N(j \\Delta t)= N(0)[1+r \\Delta t]^{j}$\n",
    "\n",
    "\n",
    "Determinando o valor de $N$ para $t = (j-1) \\Delta t$ finito:\n",
    "\n",
    "Eq(6): $N(t)= N(0)[1+rt/j]^{j}$\n",
    "\n",
    "Pode-se calcular e tomando $rt=1$, logo:\n",
    "\n",
    "$[1+\\frac{1}{j}]^{j} \\rightarrow e $ para $j \\rightarrow \\infty $\n",
    "\n",
    "Tomando $\\Delta t =1$ e $\\alpha = 1 + r$, a relação entre $N(t+1)$ e $N(t)$ é $N(t+1)=\\alpha N(t)$.\n",
    "\n",
    "\n"
   ]
  },
  {
   "cell_type": "markdown",
   "metadata": {},
   "source": [
    "1.2.5 (Método dos Mínimos Quadrados)"
   ]
  },
  {
   "cell_type": "markdown",
   "metadata": {},
   "source": [
    "2.2.2 a) A4"
   ]
  },
  {
   "cell_type": "markdown",
   "metadata": {},
   "source": [
    "2.2.2 b) A5 e A7"
   ]
  },
  {
   "cell_type": "markdown",
   "metadata": {},
   "source": [
    "2.2.4 a) a equação para fb(x) = (x+17/x)/2 converge para a raiz de 17 no tempo 4. "
   ]
  },
  {
   "cell_type": "code",
   "execution_count": 136,
   "metadata": {},
   "outputs": [
    {
     "name": "stdout",
     "output_type": "stream",
     "text": [
      "289\n",
      "81.0\n",
      "29.641975308641978\n",
      "18.347915734699015\n",
      "17.024755902170583\n",
      "17.000008999463716\n",
      "17.000000000001194\n"
     ]
    },
    {
     "data": {
      "image/png": "[encoded data removed]",
      "text/plain": [
       "<Figure size 432x288 with 1 Axes>"
      ]
     },
     "metadata": {
      "needs_background": "light"
     },
     "output_type": "display_data"
    }
   ],
   "source": [
    "%matplotlib inline\n",
    "import numpy as np\n",
    "import matplotlib.pyplot as plt\n",
    "\n",
    "def fb(x):\n",
    "    return ((x+17/x)/2)\n",
    "        \n",
    "y=[f(17,17)]\n",
    "for i in range(1,7):\n",
    "    y.append(f(y[-1],17))\n",
    "\n",
    "plt.plot(y, color='b')\n",
    "plt.show()"
   ]
  },
  {
   "cell_type": "markdown",
   "metadata": {},
   "source": [
    "2.2.4 b) Sim"
   ]
  },
  {
   "cell_type": "markdown",
   "metadata": {},
   "source": [
    "2.3.1  "
   ]
  },
  {
   "cell_type": "markdown",
   "metadata": {},
   "source": [
    "2.3.3 a) \n",
    "\n",
    "\n",
    "$ W(t) = det \\begin{bmatrix}\n",
    " &e^{\\lambda t} & cos (t) & -cos (t)\\\\ \n",
    " &e^{\\lambda t} & -sin(t) & sin  (t)\\\\ \n",
    " &e^{\\lambda t} & -cos(t) & cos  (t) \n",
    "\\end{bmatrix}\n",
    "\\\\\n",
    "$\n"
   ]
  },
  {
   "cell_type": "markdown",
   "metadata": {},
   "source": [
    "\n",
    "$W(t)= ( e^{\\lambda t} \\cdot -sin(t)\\cdot cos  (t) +\n",
    "e^{\\lambda t} \\cdot -cos(t)\\cdot -cos  (t)+\n",
    "e^{\\lambda t} \\cdot cos(t)\\cdot sin(t)) - (\n",
    "-cos(t) \\cdot -sin(t) \\cdot  e^{\\lambda t}+\n",
    "sin(t) \\cdot -cos(t) \\cdot  e^{\\lambda t}+\n",
    "cos(t) \\cdot cos(t) \\cdot  e^{\\lambda t})\n",
    ")$\n",
    "\n",
    "$W(t) = 0$"
   ]
  },
  {
   "cell_type": "markdown",
   "metadata": {},
   "source": [
    "2.3.3 b) \n",
    "\n"
   ]
  },
  {
   "cell_type": "markdown",
   "metadata": {},
   "source": [
    "$E^((j + l + E^(l t) l^2) t) l (-j + l) (j + \n",
    "   E^(2 l t) l^3 (1 + l t)^2 - E^(l t) l (j - l + j l t))$"
   ]
  },
  {
   "cell_type": "code",
   "execution_count": null,
   "metadata": {},
   "outputs": [],
   "source": []
  },
  {
   "cell_type": "code",
   "execution_count": null,
   "metadata": {},
   "outputs": [],
   "source": []
  },
  {
   "cell_type": "code",
   "execution_count": null,
   "metadata": {},
   "outputs": [],
   "source": []
  }
 ],
 "metadata": {
  "kernelspec": {
   "display_name": "Python 3",
   "language": "python",
   "name": "python3"
  },
  "language_info": {
   "codemirror_mode": {
    "name": "ipython",
    "version": 3
   },
   "file_extension": ".py",
   "mimetype": "text/x-python",
   "name": "python",
   "nbconvert_exporter": "python",
   "pygments_lexer": "ipython3",
   "version": "3.7.3"
  }
 },
 "nbformat": 4,
 "nbformat_minor": 2
}
