{
 "cells": [
  {
   "cell_type": "markdown",
   "metadata": {},
   "source": [
    "# CAP-368 – Introdução à Teoria de Sistemas Dinâmicos\n",
    "## Série I\n",
    "\n",
    "1. Resuma, usando o Latex as seção 2.4 (modelo de Malthus) e 2.5 (Método dos Mínimos Quadrados) do livro do LM.\n",
    "2. Exercícios do livro do LM: 2.1(a,b,c,d), 2.2, 2.4 (implementar um programa), 3.1, 3.3, 3.4, 3.5. .\n",
    "3. Leia integralmente os capítulos I, II e III do livro do LM."
   ]
  },
  {
   "cell_type": "markdown",
   "metadata": {},
   "source": [
    "2.2.4"
   ]
  },
  {
   "cell_type": "code",
   "execution_count": 31,
   "metadata": {},
   "outputs": [
    {
     "name": "stdout",
     "output_type": "stream",
     "text": [
      "8.5\n",
      "5.25\n",
      "4.244047619047619\n",
      "4.124828858612169\n",
      "4.123105985575862\n",
      "4.123105625617676\n",
      "4.123105625617661\n"
     ]
    },
    {
     "data": {
      "image/png": "[encoded data removed]",
      "text/plain": [
       "<Figure size 432x288 with 1 Axes>"
      ]
     },
     "metadata": {
      "needs_background": "light"
     },
     "output_type": "display_data"
    },
    {
     "name": "stdout",
     "output_type": "stream",
     "text": [
      "[17.         16.56410256 16.12820513 15.69230769 15.25641026 14.82051282\n",
      " 14.38461538 13.94871795 13.51282051 13.07692308 12.64102564 12.20512821\n",
      " 11.76923077 11.33333333 10.8974359  10.46153846 10.02564103  9.58974359\n",
      "  9.15384615  8.71794872  8.28205128  7.84615385  7.41025641  6.97435897\n",
      "  6.53846154  6.1025641   5.66666667  5.23076923  4.79487179  4.35897436\n",
      "  3.92307692  3.48717949  3.05128205  2.61538462  2.17948718  1.74358974\n",
      "  1.30769231  0.87179487  0.43589744  0.        ]\n"
     ]
    },
    {
     "name": "stderr",
     "output_type": "stream",
     "text": [
      "c:\\users\\laeti\\appdata\\local\\programs\\python\\python37-32\\lib\\site-packages\\ipykernel_launcher.py:19: RuntimeWarning: divide by zero encountered in true_divide\n"
     ]
    },
    {
     "data": {
      "text/plain": [
       "[<matplotlib.lines.Line2D at 0x3f3c13f0>]"
      ]
     },
     "execution_count": 31,
     "metadata": {},
     "output_type": "execute_result"
    },
    {
     "data": {
      "image/png": "[encoded data removed]",
      "text/plain": [
       "<Figure size 432x288 with 1 Axes>"
      ]
     },
     "metadata": {
      "needs_background": "light"
     },
     "output_type": "display_data"
    }
   ],
   "source": [
    "%matplotlib inline\n",
    "import numpy as np\n",
    "import matplotlib.pyplot as plt\n",
    "from scipy.integrate import odeint\n",
    "\n",
    "def raizb(x):\n",
    "    b = x\n",
    "    h = 0;\n",
    "    lst=[]\n",
    "    while (b != h):\n",
    "        b = (h + b) / 2\n",
    "        h = x / b\n",
    "        lst.append(b)\n",
    "        print(b)\n",
    "    return lst;\n",
    "\n",
    "def f(x):\n",
    "    if(17 == x**2):\n",
    "        return (x+17/x)/2\n",
    "    else:\n",
    "        return x\n",
    "\n",
    "def plotModel(ic):\n",
    "    plt.plot(raizb(ic), color='b')\n",
    "\n",
    "\n",
    "plotModel(17)\n",
    "plt.title('Numerical Solution')\n",
    "plt.xlabel('Time values')\n",
    "plt.ylabel('Y values')\n",
    "# Save figure using 300 dots per inch42\n",
    "plt.savefig(\"fig1.1.png\", dpi=300)\n",
    "plt.show()  # Show on screen\n",
    "\n",
    "x = np.linspace(17,0, 40)\n",
    "plt.plot(f(x), color='b')\n",
    "\n"
   ]
  },
  {
   "cell_type": "code",
   "execution_count": null,
   "metadata": {},
   "outputs": [],
   "source": []
  }
 ],
 "metadata": {
  "kernelspec": {
   "display_name": "Python 3",
   "language": "python",
   "name": "python3"
  },
  "language_info": {
   "codemirror_mode": {
    "name": "ipython",
    "version": 3
   },
   "file_extension": ".py",
   "mimetype": "text/x-python",
   "name": "python",
   "nbconvert_exporter": "python",
   "pygments_lexer": "ipython3",
   "version": "3.7.3"
  }
 },
 "nbformat": 4,
 "nbformat_minor": 2
}
